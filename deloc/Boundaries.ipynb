{
 "cells": [
  {
   "cell_type": "code",
   "execution_count": 12,
   "metadata": {
    "collapsed": true,
    "pycharm": {
     "name": "#%%\n"
    }
   },
   "outputs": [],
   "source": [
    "import matplotlib.pyplot as plt\n",
    "plt.rcParams.update(plt.rcParamsDefault)\n",
    "from numpy import pi\n",
    "from mpmath.calculus.optimization import findroot\n",
    "import numpy as np\n",
    "from sympy import erfc, exp\n",
    "from mpmath import *\n",
    "import deloc\n",
    "from tkinter import *"
   ]
  },
  {
   "cell_type": "code",
   "execution_count": 13,
   "outputs": [],
   "source": [
    "\n",
    "# Constants for calculations\n",
    "# meV for energies\n",
    "# cm for lengths\n",
    "\n",
    "q_initial = float(input(\"Enter the initial value for domain: \"))\n",
    "\n",
    "q_final = float(input(\"Enter the final value for domain: \"))\n",
    "\n",
    "q_step = float(input(\"Enter the wave number step: \"))\n",
    "\n",
    "m = float(input(\"Enter the cavity order m: \"))\n",
    "\n",
    "Ec = float(input(\"Enter the Ec: \"))\n",
    "\n",
    "E0 = float(input(\"Enter the E0: \"))\n",
    "\n",
    "Lc = float(input(\"Enter the cavity length: \"))\n",
    "\n",
    "Delta = float(input(\"Enter the rabi energy: \"))\n",
    "\n",
    "Sigma = float(input(\"Enter the energetic disorder: \"))\n",
    "\n",
    "Gamma_Ex = float(input(\"Enter the molecular disorder: \"))\n",
    "\n",
    "Gamma_L = float(input(\"Enter the cavity leakage: \"))\n",
    "\n",
    "a = float(input(\"Enter the intermolecular distance: \"))\n",
    "\n",
    "q_domain = np.arange(q_initial, q_final, q_step)\n"
   ],
   "metadata": {
    "collapsed": false,
    "pycharm": {
     "name": "#%%\n"
    }
   }
  },
  {
   "cell_type": "code",
   "execution_count": 14,
   "outputs": [],
   "source": [
    "q_inel_array_lp = np.empty(len(q_domain), dtype = float)\n",
    "\n",
    "for i in range(len(q_domain)):\n",
    "    q_inel_array_lp[i] = deloc.q_inel_lp(m, q_domain[i], Ec, E0, Lc, Delta, Gamma_Ex, Gamma_L)\n",
    "\n",
    "q_inel_array_up = np.empty(len(q_domain), dtype = float)\n",
    "\n",
    "for i in range(len(q_domain)):\n",
    "    q_inel_array_up[i] = deloc.q_inel_up(m, q_domain[i], Ec, E0, Lc, Delta, Gamma_Ex, Gamma_L)\n",
    "\n",
    "# Calculate the differences between consecutive elements\n",
    "diff_arr_inel_lp = np.diff(np.sign(q_inel_array_lp))\n",
    "\n",
    "# Find the indices where the sign changes\n",
    "indices_inel_lp = np.where(diff_arr_inel_lp != 0)[0] + 1\n",
    "\n",
    "if len(indices_inel_lp) == 1:\n",
    "    q_inel_lp_min = q_domain[indices_inel_lp[0]]  # Assign the element to q_min\n",
    "    q_inel_lp_max = q_final\n",
    "else:\n",
    "    q_inel_lp_min = q_domain[indices_inel_lp[0]]\n",
    "    q_inel_lp_max = q_domain[indices_inel_lp[1]]  # Assign the second element to q_max\n",
    "\n",
    "# Calculate the differences between consecutive elements\n",
    "diff_arr_inel_up = np.diff(np.sign(q_inel_array_up))\n",
    "\n",
    "# Find the indices where the sign changes\n",
    "indices_inel_up = np.where(diff_arr_inel_up != 0)[0] + 1\n",
    "\n",
    "if len(indices_inel_up) == 1:\n",
    "    q_inel_up_min = q_domain[indices_inel_up[0]]  # Assign the element to q_min\n",
    "    q_inel_up_max = q_final\n",
    "else:\n",
    "    q_inel_up_min = q_domain[indices_inel_up[0]]\n",
    "    q_inel_up_max = q_domain[indices_inel_up[1]]  # Assign the second element to q_max"
   ],
   "metadata": {
    "collapsed": false,
    "pycharm": {
     "name": "#%%\n"
    }
   }
  },
  {
   "cell_type": "code",
   "execution_count": 15,
   "outputs": [],
   "source": [
    "q_fluc_array_lp = np.empty(len(q_domain), dtype = float)\n",
    "\n",
    "for i in range(len(q_domain)):\n",
    "    q_fluc_array_lp[i] = deloc.q_fluc_lp(m, q_domain[i], Ec, E0, Lc, Delta, a)\n",
    "\n",
    "q_fluc_array_up = np.empty(len(q_domain), dtype = float)\n",
    "\n",
    "for i in range(len(q_domain)):\n",
    "    q_fluc_array_up[i] = deloc.q_fluc_up(m, q_domain[i], Ec, E0, Lc, Delta, a)\n",
    "\n",
    "# Calculate the differences between consecutive elements\n",
    "diff_arr_fluc_lp = np.diff(np.sign(q_fluc_array_lp))\n",
    "\n",
    "# Find the indices where the sign changes\n",
    "indices_fluc_lp = np.where(diff_arr_fluc_lp != 0)[0] + 1\n",
    "\n",
    "if len(indices_fluc_lp) == 1:\n",
    "    q_fluc_lp_min = q_domain[indices_fluc_lp[0]]  # Assign the element to q_min\n",
    "    q_fluc_lp_max = q_final\n",
    "else:\n",
    "    q_fluc_lp_min = q_domain[indices_fluc_lp[0]]\n",
    "    q_fluc_lp_max = indices_fluc_lp[1]  # Assign the second element to q_max\n",
    "\n",
    "# Calculate the differences between consecutive elements\n",
    "diff_arr_fluc_up = np.diff(np.sign(q_fluc_array_up))\n",
    "\n",
    "# Find the indices where the sign changes\n",
    "indices_fluc_up = np.where(diff_arr_fluc_up != 0)[0] + 1\n",
    "\n",
    "if len(indices_fluc_up) == 1:\n",
    "    q_fluc_up_min = q_domain[indices_fluc_up[0]]  # Assign the element to q_min\n",
    "    q_fluc_up_max = q_final\n",
    "else:\n",
    "    q_fluc_up_min = q_domain[indices_fluc_up[0]]\n",
    "    q_fluc_up_max = q_domain[indices_fluc_up[1]]  # Assign the second element to q_max"
   ],
   "metadata": {
    "collapsed": false,
    "pycharm": {
     "name": "#%%\n"
    }
   }
  },
  {
   "cell_type": "code",
   "execution_count": 19,
   "outputs": [],
   "source": [
    "# ----------------- Energy Broadening due to Resonant Scattering ---------------------\n",
    "\n",
    "# fadeeva function\n",
    "# exp*erfc\n",
    "def f(x): return exp(-(x ** 2)) * erfc(-1j*x)\n",
    "\n",
    "def gamma_res_lp(m, x, Ec, E0, Lc, Delta, Sigma, imag_part_lp):\n",
    "    \"\"\"Calculate lower polariton energy broadening due to resonant scattering.\"\"\"\n",
    "\n",
    "    B = ((Delta / Sigma) ** 2) * np.sqrt(np.pi)\n",
    "\n",
    "    # Prompt the user for the real and imaginary parts of the initial guess\n",
    "    real_part_lp = deloc.energy_lp_zero(m, x, Ec, E0, Lc, Delta)\n",
    "    #imag_part_lp = float(input(\"Enter the imaginary part of the initial guess LP: \") or x*deloc.group_velocity_lp(x,Ec, E0, Lc, Delta))\n",
    "\n",
    "    # Create the initial guess as a complex number\n",
    "    initial_guess_lp = complex(real_part_lp, imag_part_lp)\n",
    "    t = findroot(lambda y: 1j * f((y - E0) / Sigma) * B * Sigma + y - Ec * np.sqrt(1 + ((x * Lc) / np.pi) ** 2),\n",
    "                 initial_guess_lp)\n",
    "    return t.imag\n",
    "\n",
    "# Initialize the arrays with the q_domain shape\n",
    "gamma_res_array_lp = np.empty_like(q_domain)\n",
    "l_res_array_lp = np.empty_like(q_domain)\n",
    "q_res_array_lp = np.empty_like(q_domain)\n",
    "\n",
    "# Calculate the arrays element-wise\n",
    "for i in range(len(q_domain)-1):\n",
    "    gamma_res_array_lp[0] = gamma_res_lp(m, q_domain[0], Ec, E0, Lc, Delta, Sigma, 0)\n",
    "    gamma_res_array_lp[i+1] = gamma_res_lp(m, q_domain[i+1], Ec, E0, Lc, Delta, Sigma, gamma_res_array_lp[i])\n",
    "\n",
    "\n",
    "# ----------------- Mean Free Path of Resonant Scattering ---------------------\n",
    "\n",
    "l_res_array_lp = deloc.group_velocity_lp(m, q_domain, Ec, E0, Lc, Delta)/ abs(gamma_res_array_lp)\n",
    "\n",
    "# ----------------- Resonant Boundary Points ---------------------\n",
    "\n",
    "q_res_array_lp = l_res_array_lp - 1/q_domain\n",
    "\n",
    "# Calculate the differences between consecutive elements\n",
    "diff_arr_res_lp = np.diff(np.sign(q_res_array_lp))\n",
    "\n",
    "# Find the indices where the sign changes\n",
    "indices_res_lp = np.where(diff_arr_res_lp != 0)[0] + 1\n",
    "\n",
    "if len(indices_res_lp) == 1:\n",
    "    q_res_lp_min = q_domain[indices_res_lp[0]]  # Assign the element to q_min\n",
    "    q_res_lp_max = q_final\n",
    "else:\n",
    "    q_res_lp_min = q_domain[indices_res_lp[0]]\n",
    "    q_res_lp_max = q_domain[indices_res_lp[1]]  # Assign the second element to q_max\n"
   ],
   "metadata": {
    "collapsed": false,
    "pycharm": {
     "name": "#%%\n"
    }
   }
  },
  {
   "cell_type": "code",
   "execution_count": 21,
   "outputs": [],
   "source": [
    "# ----------------- Energy Broadening due to Resonant Scattering UP ---------------------\n",
    "\n",
    "# fadeeva function\n",
    "# exp*erfc\n",
    "def f(x): return exp(-(x ** 2)) * erfc(-1j*x)\n",
    "\n",
    "def gamma_res_up(m, x, Ec, E0, Lc, Delta, Sigma, imag_part_up):\n",
    "    \"\"\"Calculate lower polariton energy broadening due to resonant scattering.\"\"\"\n",
    "\n",
    "    B = ((Delta / Sigma) ** 2) * np.sqrt(np.pi)\n",
    "\n",
    "    # Prompt the user for the real and imaginary parts of the initial guess\n",
    "    real_part_up = deloc.energy_up_zero(m, x, Ec, E0, Lc, Delta)\n",
    "    #imag_part_lp = float(input(\"Enter the imaginary part of the initial guess LP: \") or x*deloc.group_velocity_lp(x,Ec, E0, Lc, Delta))\n",
    "\n",
    "    # Create the initial guess as a complex number\n",
    "    initial_guess_up = complex(real_part_up, imag_part_up)\n",
    "    t = findroot(lambda y: 1j * f((y - E0) / Sigma) * B * Sigma + y - Ec * np.sqrt(1 + ((x * Lc) / np.pi) ** 2),\n",
    "                 initial_guess_up)\n",
    "    return t.imag\n",
    "\n",
    "# Initialize the arrays with the q_domain shape\n",
    "gamma_res_array_up = np.empty_like(q_domain)\n",
    "l_res_array_up = np.empty_like(q_domain)\n",
    "q_res_array_up = np.empty_like(q_domain)\n",
    "\n",
    "# Calculate the arrays element-wise\n",
    "for i in range(len(q_domain)-1):\n",
    "    gamma_res_array_up[0] = gamma_res_up(m, q_domain[0], Ec, E0, Lc, Delta, Sigma, 0)\n",
    "    gamma_res_array_up[i+1] = gamma_res_up(m, q_domain[i+1], Ec, E0, Lc, Delta, Sigma, gamma_res_array_up[i])\n",
    "    # Check if the current element is too small\n",
    "    if abs(gamma_res_array_up[i+1]) < 1e-6:\n",
    "        # Make the rest of the array zero\n",
    "        gamma_res_array_up[i+2:] = 1e-10\n",
    "        # Exit the loop\n",
    "        break\n",
    "\n",
    "# ----------------- Mean Free Path of Resonant Scattering ---------------------\n",
    "\n",
    "l_res_array_up = deloc.group_velocity_up(m, q_domain, Ec, E0, Lc, Delta)/ abs(gamma_res_array_up)\n",
    "\n",
    "# ----------------- Resonant Boundary Points ---------------------\n",
    "\n",
    "for i in range(len(q_domain)):\n",
    "    q_res_array_lp[i] = l_res_array_lp[i] - 1 / q_domain[i]\n",
    "\n",
    "# Calculate the differences between consecutive elements\n",
    "diff_arr_res_up = np.diff(np.sign(q_res_array_up))\n",
    "\n",
    "# Find the indices where the sign changes\n",
    "indices_res_up = np.where(diff_arr_res_up != 0)[0] + 1\n",
    "\n",
    "q_res_up_min = q_domain[indices_res_up[0]]  # Assign the element to q_min\n"
   ],
   "metadata": {
    "collapsed": false,
    "pycharm": {
     "name": "#%%\n"
    }
   }
  },
  {
   "cell_type": "code",
   "execution_count": 23,
   "outputs": [
    {
     "data": {
      "text/plain": "(6401.0, 20701.0, 5101.0)"
     },
     "execution_count": 23,
     "metadata": {},
     "output_type": "execute_result"
    }
   ],
   "source": [
    "# Compare three scatterings to determine the minimum boundary for UP\n",
    "\n",
    "q_min_up = max(q_fluc_up_min, q_inel_up_min, q_res_up_min)\n",
    "\n",
    "# Compare three scatterings to determine the minimum boundary for LP\n",
    "\n",
    "q_min_lp = max(q_fluc_lp_min, q_inel_lp_min, q_res_lp_min)\n",
    "\n",
    "# Compare three scatterings to determine the maximum boundary for LP\n",
    "\n",
    "q_max_lp = min( q_fluc_lp_max, q_inel_lp_max, q_res_lp_max)\n",
    "\n",
    "q_min_lp, q_max_lp, q_min_up"
   ],
   "metadata": {
    "collapsed": false,
    "pycharm": {
     "name": "#%%\n"
    }
   }
  }
 ],
 "metadata": {
  "kernelspec": {
   "display_name": "Python 3",
   "language": "python",
   "name": "python3"
  },
  "language_info": {
   "codemirror_mode": {
    "name": "ipython",
    "version": 2
   },
   "file_extension": ".py",
   "mimetype": "text/x-python",
   "name": "python",
   "nbconvert_exporter": "python",
   "pygments_lexer": "ipython2",
   "version": "2.7.6"
  }
 },
 "nbformat": 4,
 "nbformat_minor": 0
}